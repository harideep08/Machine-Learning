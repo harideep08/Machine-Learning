{
  "nbformat": 4,
  "nbformat_minor": 0,
  "metadata": {
    "colab": {
      "name": "ML LAB-3530.ipynb",
      "provenance": []
    },
    "kernelspec": {
      "name": "python3",
      "display_name": "Python 3"
    },
    "language_info": {
      "name": "python"
    }
  },
  "cells": [
    {
      "cell_type": "code",
      "metadata": {
        "colab": {
          "base_uri": "https://localhost:8080/"
        },
        "id": "T0moQkkXchZB",
        "outputId": "77bae53a-d64d-4170-eb7e-44319854402a"
      },
      "source": [
        "a=5\n",
        "a"
      ],
      "execution_count": 5,
      "outputs": [
        {
          "output_type": "execute_result",
          "data": {
            "text/plain": [
              "5"
            ]
          },
          "metadata": {},
          "execution_count": 5
        }
      ]
    },
    {
      "cell_type": "code",
      "metadata": {
        "colab": {
          "base_uri": "https://localhost:8080/"
        },
        "id": "jqx59CWrdsKv",
        "outputId": "a5aac51c-8c55-499b-ceaa-e53504eff717"
      },
      "source": [
        "a+3"
      ],
      "execution_count": 6,
      "outputs": [
        {
          "output_type": "execute_result",
          "data": {
            "text/plain": [
              "8"
            ]
          },
          "metadata": {},
          "execution_count": 6
        }
      ]
    },
    {
      "cell_type": "code",
      "metadata": {
        "colab": {
          "base_uri": "https://localhost:8080/"
        },
        "id": "-yEfc3Ohd1q9",
        "outputId": "b58b195a-0d20-4043-dbc5-5e378ea72aab"
      },
      "source": [
        "a=9.1\n",
        "a+5"
      ],
      "execution_count": 7,
      "outputs": [
        {
          "output_type": "execute_result",
          "data": {
            "text/plain": [
              "14.1"
            ]
          },
          "metadata": {},
          "execution_count": 7
        }
      ]
    },
    {
      "cell_type": "code",
      "metadata": {
        "colab": {
          "base_uri": "https://localhost:8080/"
        },
        "id": "fzQCUeB8d9fk",
        "outputId": "b76bb17b-d356-492f-c482-9e759605e399"
      },
      "source": [
        "b=15\n",
        "a+b*3"
      ],
      "execution_count": 8,
      "outputs": [
        {
          "output_type": "execute_result",
          "data": {
            "text/plain": [
              "54.1"
            ]
          },
          "metadata": {},
          "execution_count": 8
        }
      ]
    },
    {
      "cell_type": "code",
      "metadata": {
        "colab": {
          "base_uri": "https://localhost:8080/"
        },
        "id": "X1nvegFHeHPO",
        "outputId": "fda59d5d-fed2-484f-fc6f-0877023f7f51"
      },
      "source": [
        "hello=11\n",
        "print(hello*b+1)\n",
        "print(hello**b)"
      ],
      "execution_count": 9,
      "outputs": [
        {
          "output_type": "stream",
          "text": [
            "166\n",
            "4177248169415651\n"
          ],
          "name": "stdout"
        }
      ]
    },
    {
      "cell_type": "code",
      "metadata": {
        "colab": {
          "base_uri": "https://localhost:8080/"
        },
        "id": "NAXUkLOIfJVg",
        "outputId": "86d1594c-e47e-4a6e-c186-3dca37c2b185"
      },
      "source": [
        "greeting = 'hai i am harideep'\n",
        "print(greeting)"
      ],
      "execution_count": 10,
      "outputs": [
        {
          "output_type": "stream",
          "text": [
            "hai i am harideep\n"
          ],
          "name": "stdout"
        }
      ]
    },
    {
      "cell_type": "code",
      "metadata": {
        "colab": {
          "base_uri": "https://localhost:8080/"
        },
        "id": "SrR_CcZhfwsp",
        "outputId": "3e12f429-1291-4146-edc6-437bd820fc41"
      },
      "source": [
        "msg='Hello, My name is '\n",
        "name='Harideep'\n",
        "age= 19\n",
        "print(msg + name + '!')\n",
        "print('I am ' + str(age) + 'years old')\n"
      ],
      "execution_count": 11,
      "outputs": [
        {
          "output_type": "stream",
          "text": [
            "Hello, My name is Harideep!\n",
            "I am 19years old\n"
          ],
          "name": "stdout"
        }
      ]
    },
    {
      "cell_type": "code",
      "metadata": {
        "colab": {
          "base_uri": "https://localhost:8080/"
        },
        "id": "mWTwpaMmgot7",
        "outputId": "c9e7bd69-8aa9-4504-ab7b-e4a908649db6"
      },
      "source": [
        "list=[1,2,3]\n",
        "list"
      ],
      "execution_count": 12,
      "outputs": [
        {
          "output_type": "execute_result",
          "data": {
            "text/plain": [
              "[1, 2, 3]"
            ]
          },
          "metadata": {},
          "execution_count": 12
        }
      ]
    },
    {
      "cell_type": "code",
      "metadata": {
        "colab": {
          "base_uri": "https://localhost:8080/"
        },
        "id": "QSn0MONhgzgn",
        "outputId": "29d74120-513c-427c-d586-467c739c9559"
      },
      "source": [
        "abs(-10)"
      ],
      "execution_count": 14,
      "outputs": [
        {
          "output_type": "execute_result",
          "data": {
            "text/plain": [
              "10"
            ]
          },
          "metadata": {},
          "execution_count": 14
        }
      ]
    },
    {
      "cell_type": "code",
      "metadata": {
        "colab": {
          "base_uri": "https://localhost:8080/"
        },
        "id": "KKwvT6Gmg-3H",
        "outputId": "3df0632e-9e75-450d-aa4f-132f8fe92649"
      },
      "source": [
        "import numpy as np\n",
        "np.mean(list)\n"
      ],
      "execution_count": 15,
      "outputs": [
        {
          "output_type": "execute_result",
          "data": {
            "text/plain": [
              "2.0"
            ]
          },
          "metadata": {},
          "execution_count": 15
        }
      ]
    },
    {
      "cell_type": "code",
      "metadata": {
        "colab": {
          "base_uri": "https://localhost:8080/"
        },
        "id": "1pXj3ArDhdG7",
        "outputId": "b9836526-1d3a-465a-942e-a280f392c889"
      },
      "source": [
        "np.sqrt(256)"
      ],
      "execution_count": 17,
      "outputs": [
        {
          "output_type": "execute_result",
          "data": {
            "text/plain": [
              "16.0"
            ]
          },
          "metadata": {},
          "execution_count": 17
        }
      ]
    },
    {
      "cell_type": "code",
      "metadata": {
        "colab": {
          "base_uri": "https://localhost:8080/"
        },
        "id": "EiKcw2G6hf-R",
        "outputId": "5e26aee2-cbbd-4281-fa05-261eb7adc1ef"
      },
      "source": [
        "np.linspace(1,10,7)"
      ],
      "execution_count": 18,
      "outputs": [
        {
          "output_type": "execute_result",
          "data": {
            "text/plain": [
              "array([ 1. ,  2.5,  4. ,  5.5,  7. ,  8.5, 10. ])"
            ]
          },
          "metadata": {},
          "execution_count": 18
        }
      ]
    },
    {
      "cell_type": "code",
      "metadata": {
        "colab": {
          "base_uri": "https://localhost:8080/"
        },
        "id": "vuOLGrjhhylI",
        "outputId": "b3c903e4-770d-453d-be2d-a25f5f0a0d44"
      },
      "source": [
        "out=np.linspace(1,10,7)\n",
        "out \n"
      ],
      "execution_count": 19,
      "outputs": [
        {
          "output_type": "execute_result",
          "data": {
            "text/plain": [
              "array([ 1. ,  2.5,  4. ,  5.5,  7. ,  8.5, 10. ])"
            ]
          },
          "metadata": {},
          "execution_count": 19
        }
      ]
    },
    {
      "cell_type": "code",
      "metadata": {
        "colab": {
          "base_uri": "https://localhost:8080/"
        },
        "id": "PxAUIHx_iEsw",
        "outputId": "9a2c483b-d921-4975-c8c4-614506d03d85"
      },
      "source": [
        "out+2"
      ],
      "execution_count": 20,
      "outputs": [
        {
          "output_type": "execute_result",
          "data": {
            "text/plain": [
              "array([ 3. ,  4.5,  6. ,  7.5,  9. , 10.5, 12. ])"
            ]
          },
          "metadata": {},
          "execution_count": 20
        }
      ]
    },
    {
      "cell_type": "code",
      "metadata": {
        "colab": {
          "base_uri": "https://localhost:8080/"
        },
        "id": "-OAQFTB1iLIc",
        "outputId": "0b17399d-92e9-402d-f0c2-d0e1250e391b"
      },
      "source": [
        "np.linspace(10,100,9)"
      ],
      "execution_count": 23,
      "outputs": [
        {
          "output_type": "execute_result",
          "data": {
            "text/plain": [
              "array([ 10.  ,  21.25,  32.5 ,  43.75,  55.  ,  66.25,  77.5 ,  88.75,\n",
              "       100.  ])"
            ]
          },
          "metadata": {},
          "execution_count": 23
        }
      ]
    },
    {
      "cell_type": "code",
      "metadata": {
        "id": "0uPveCAQiagV"
      },
      "source": [
        "import matplotlib.pyplot as plt\n",
        "import numpy as np\n"
      ],
      "execution_count": 24,
      "outputs": []
    },
    {
      "cell_type": "code",
      "metadata": {
        "colab": {
          "base_uri": "https://localhost:8080/",
          "height": 282
        },
        "id": "JAVG220Oi0J1",
        "outputId": "08a28bdf-6026-4778-a84e-5e538a399a61"
      },
      "source": [
        "plt.plot(1,3)"
      ],
      "execution_count": 26,
      "outputs": [
        {
          "output_type": "execute_result",
          "data": {
            "text/plain": [
              "[<matplotlib.lines.Line2D at 0x7fa869ba3990>]"
            ]
          },
          "metadata": {},
          "execution_count": 26
        },
        {
          "output_type": "display_data",
          "data": {
            "image/png": "[encoded data removed]",
            "text/plain": [
              "<Figure size 432x288 with 1 Axes>"
            ]
          },
          "metadata": {
            "needs_background": "light"
          }
        }
      ]
    },
    {
      "cell_type": "code",
      "metadata": {
        "colab": {
          "base_uri": "https://localhost:8080/",
          "height": 282
        },
        "id": "_GC0H1A6i8Vd",
        "outputId": "bc2da9de-bc67-4c2a-c454-68ec589ce6d0"
      },
      "source": [
        "plt.plot(1,3,'bo')"
      ],
      "execution_count": 27,
      "outputs": [
        {
          "output_type": "execute_result",
          "data": {
            "text/plain": [
              "[<matplotlib.lines.Line2D at 0x7fa869b19850>]"
            ]
          },
          "metadata": {},
          "execution_count": 27
        },
        {
          "output_type": "display_data",
          "data": {
            "image/png": "[encoded data removed]",
            "text/plain": [
              "<Figure size 432x288 with 1 Axes>"
            ]
          },
          "metadata": {
            "needs_background": "light"
          }
        }
      ]
    },
    {
      "cell_type": "code",
      "metadata": {
        "colab": {
          "base_uri": "https://localhost:8080/",
          "height": 282
        },
        "id": "NvohCEGOjHvh",
        "outputId": "337ac119-6671-4d5b-9c9d-4e2af88c4a49"
      },
      "source": [
        "plt.plot(1,3,'ko')"
      ],
      "execution_count": null,
      "outputs": [
        {
          "output_type": "execute_result",
          "data": {
            "text/plain": [
              "[<matplotlib.lines.Line2D at 0x7f86bc24eb90>]"
            ]
          },
          "metadata": {},
          "execution_count": 34
        },
        {
          "output_type": "display_data",
          "data": {
            "image/png": "[encoded data removed]",
            "text/plain": [
              "<Figure size 432x288 with 1 Axes>"
            ]
          },
          "metadata": {
            "needs_background": "light"
          }
        }
      ]
    },
    {
      "cell_type": "code",
      "metadata": {
        "colab": {
          "base_uri": "https://localhost:8080/",
          "height": 282
        },
        "id": "TW40w7xmjLbd",
        "outputId": "619d942e-5983-48b9-9cea-aa51042e68e3"
      },
      "source": [
        "x=np.arange(-9,10)\n",
        "print(x)\n",
        "y=x**2\n",
        "plt.plot(x,y,'r')\n",
        "plt.plot(x,y/2,'bs')\n",
        "plt.show()"
      ],
      "execution_count": 29,
      "outputs": [
        {
          "output_type": "stream",
          "text": [
            "[-9 -8 -7 -6 -5 -4 -3 -2 -1  0  1  2  3  4  5  6  7  8  9]\n"
          ],
          "name": "stdout"
        },
        {
          "output_type": "display_data",
          "data": {
            "image/png": "[encoded data removed]",
            "text/plain": [
              "<Figure size 432x288 with 1 Axes>"
            ]
          },
          "metadata": {
            "needs_background": "light"
          }
        }
      ]
    },
    {
      "cell_type": "code",
      "metadata": {
        "colab": {
          "base_uri": "https://localhost:8080/",
          "height": 282
        },
        "id": "jR6h_Yy3jtSA",
        "outputId": "880ce7e2-fa21-4772-d831-64fcb65ee67a"
      },
      "source": [
        "plt.plot([0,3],[-1,1])\n",
        "plt.show"
      ],
      "execution_count": 30,
      "outputs": [
        {
          "output_type": "execute_result",
          "data": {
            "text/plain": [
              "<function matplotlib.pyplot.show>"
            ]
          },
          "metadata": {},
          "execution_count": 30
        },
        {
          "output_type": "display_data",
          "data": {
            "image/png": "[encoded data removed]",
            "text/plain": [
              "<Figure size 432x288 with 1 Axes>"
            ]
          },
          "metadata": {
            "needs_background": "light"
          }
        }
      ]
    },
    {
      "cell_type": "code",
      "metadata": {
        "colab": {
          "base_uri": "https://localhost:8080/",
          "height": 282
        },
        "id": "qE7Sto01j9aX",
        "outputId": "83d8e23f-99ba-4258-9f78-3bef1392d21c"
      },
      "source": [
        "plt.plot([0,3],[-1,1],label='first line')\n",
        "plt.plot([-2,0],[-4,1],label='second line')\n",
        "plt.legend()"
      ],
      "execution_count": 31,
      "outputs": [
        {
          "output_type": "execute_result",
          "data": {
            "text/plain": [
              "<matplotlib.legend.Legend at 0x7fa86996e8d0>"
            ]
          },
          "metadata": {},
          "execution_count": 31
        },
        {
          "output_type": "display_data",
          "data": {
            "image/png": "[encoded data removed]",
            "text/plain": [
              "<Figure size 432x288 with 1 Axes>"
            ]
          },
          "metadata": {
            "needs_background": "light"
          }
        }
      ]
    },
    {
      "cell_type": "code",
      "metadata": {
        "colab": {
          "base_uri": "https://localhost:8080/"
        },
        "id": "qIIhr50rkiYC",
        "outputId": "f1e0caea-4f06-49dd-e354-cca03303bddb"
      },
      "source": [
        "M = np.random.randint(0,10,size=(4,5))\n",
        "M"
      ],
      "execution_count": 33,
      "outputs": [
        {
          "output_type": "execute_result",
          "data": {
            "text/plain": [
              "array([[0, 1, 9, 5, 5],\n",
              "       [6, 9, 9, 3, 5],\n",
              "       [5, 6, 8, 0, 2],\n",
              "       [0, 2, 7, 4, 5]])"
            ]
          },
          "metadata": {},
          "execution_count": 33
        }
      ]
    },
    {
      "cell_type": "code",
      "metadata": {
        "colab": {
          "base_uri": "https://localhost:8080/",
          "height": 286
        },
        "id": "Opf_nB1Ik0Hu",
        "outputId": "611b3738-8063-4bc3-85b6-e6c71beec150"
      },
      "source": [
        "plt.imshow(M)"
      ],
      "execution_count": 34,
      "outputs": [
        {
          "output_type": "execute_result",
          "data": {
            "text/plain": [
              "<matplotlib.image.AxesImage at 0x7fa86fc56c90>"
            ]
          },
          "metadata": {},
          "execution_count": 34
        },
        {
          "output_type": "display_data",
          "data": {
            "image/png": "[encoded data removed]",
            "text/plain": [
              "<Figure size 432x288 with 1 Axes>"
            ]
          },
          "metadata": {
            "needs_background": "light"
          }
        }
      ]
    },
    {
      "cell_type": "code",
      "metadata": {
        "colab": {
          "base_uri": "https://localhost:8080/"
        },
        "id": "4FjcGk4-lA8K",
        "outputId": "4c725557-cc35-4683-8d81-d9b8022beab5"
      },
      "source": [
        "vec=[3,4,5,2]\n",
        "s=2\n",
        "vec*s"
      ],
      "execution_count": 35,
      "outputs": [
        {
          "output_type": "execute_result",
          "data": {
            "text/plain": [
              "[3, 4, 5, 2, 3, 4, 5, 2]"
            ]
          },
          "metadata": {},
          "execution_count": 35
        }
      ]
    },
    {
      "cell_type": "code",
      "metadata": {
        "colab": {
          "base_uri": "https://localhost:8080/"
        },
        "id": "1ZWRsRpflXvH",
        "outputId": "d2c21e7c-1dd2-43f8-b1b4-b298765ebc08"
      },
      "source": [
        "vec=np.array([3,4,5,2])\n",
        "s=2\n",
        "vec*s"
      ],
      "execution_count": 36,
      "outputs": [
        {
          "output_type": "execute_result",
          "data": {
            "text/plain": [
              "array([ 6,  8, 10,  4])"
            ]
          },
          "metadata": {},
          "execution_count": 36
        }
      ]
    },
    {
      "cell_type": "code",
      "metadata": {
        "colab": {
          "base_uri": "https://localhost:8080/"
        },
        "id": "0hOU8rTwlph6",
        "outputId": "6f401c80-8d8d-4cd2-e3af-25081d9f8213"
      },
      "source": [
        "vec2d=np.array([1,2])\n",
        "s1=2\n",
        "s2=-5\n",
        "s3=-1\n",
        "vec2d[0]"
      ],
      "execution_count": 37,
      "outputs": [
        {
          "output_type": "execute_result",
          "data": {
            "text/plain": [
              "1"
            ]
          },
          "metadata": {},
          "execution_count": 37
        }
      ]
    },
    {
      "cell_type": "code",
      "metadata": {
        "colab": {
          "base_uri": "https://localhost:8080/",
          "height": 282
        },
        "id": "8X2bpeoEl_-d",
        "outputId": "c0e71226-b2ed-4b08-fa90-ed38f77a3132"
      },
      "source": [
        "plt.plot([0,vec2d[0]],[0,vec2d[1]],'gs--')"
      ],
      "execution_count": 40,
      "outputs": [
        {
          "output_type": "execute_result",
          "data": {
            "text/plain": [
              "[<matplotlib.lines.Line2D at 0x7fa86977f690>]"
            ]
          },
          "metadata": {},
          "execution_count": 40
        },
        {
          "output_type": "display_data",
          "data": {
            "image/png": "[encoded data removed]",
            "text/plain": [
              "<Figure size 432x288 with 1 Axes>"
            ]
          },
          "metadata": {
            "needs_background": "light"
          }
        }
      ]
    },
    {
      "cell_type": "code",
      "metadata": {
        "colab": {
          "base_uri": "https://localhost:8080/",
          "height": 286
        },
        "id": "oNEplioYmHI7",
        "outputId": "89604509-b078-414b-f4a8-83b51d78919d"
      },
      "source": [
        "plt.plot([0,vec2d[0]],[0,vec2d[1]],'bs-',label='v')\n",
        "plt.plot([0,s1*vec2d[0]],[0,s1*vec2d[1]],'ro-',label='v*s1')\n",
        "plt.plot([0,s2*vec2d[0]],[0,s2*vec2d[1]],'kp-',label='v*s2')\n",
        "plt.plot([0,s3*vec2d[0]],[0,s3*vec2d[1]],'g-',label='v*s3')\n",
        "\n",
        "plt.axis('square')\n",
        "plt.xlim([-4,4])\n",
        "plt.ylim([-4,4])\n",
        "plt.grid()\n",
        "plt.legend()\n",
        "plt.show"
      ],
      "execution_count": 39,
      "outputs": [
        {
          "output_type": "execute_result",
          "data": {
            "text/plain": [
              "<function matplotlib.pyplot.show>"
            ]
          },
          "metadata": {},
          "execution_count": 39
        },
        {
          "output_type": "display_data",
          "data": {
            "image/png": "[encoded data removed]",
            "text/plain": [
              "<Figure size 432x288 with 1 Axes>"
            ]
          },
          "metadata": {
            "needs_background": "light"
          }
        }
      ]
    },
    {
      "cell_type": "code",
      "metadata": {
        "colab": {
          "base_uri": "https://localhost:8080/"
        },
        "id": "19KMuFEMntPH",
        "outputId": "ef9b1d94-acb0-4613-f9e8-28e97abcd6ca"
      },
      "source": [
        "v1=np.array([4,5,6,2])\n",
        "v2=np.array([-4,3,0,5])\n",
        "np.dot(v1,v2)"
      ],
      "execution_count": 41,
      "outputs": [
        {
          "output_type": "execute_result",
          "data": {
            "text/plain": [
              "9"
            ]
          },
          "metadata": {},
          "execution_count": 41
        }
      ]
    },
    {
      "cell_type": "code",
      "metadata": {
        "colab": {
          "base_uri": "https://localhost:8080/"
        },
        "id": "PDdvFazkn_Iz",
        "outputId": "5b6a81b7-a8ef-4daf-9081-2e1d083c6754"
      },
      "source": [
        "v3=np.array([-4,3,1,6])\n",
        "np.dot(v3,v2)"
      ],
      "execution_count": 42,
      "outputs": [
        {
          "output_type": "execute_result",
          "data": {
            "text/plain": [
              "55"
            ]
          },
          "metadata": {},
          "execution_count": 42
        }
      ]
    },
    {
      "cell_type": "code",
      "metadata": {
        "colab": {
          "base_uri": "https://localhost:8080/"
        },
        "id": "gO2uZFpCoMDj",
        "outputId": "97ecd744-db71-4b22-b58f-2843c4f245d6"
      },
      "source": [
        "v4=np.array([1,2,3,4])\n",
        "np.dot(v3,v4)"
      ],
      "execution_count": 43,
      "outputs": [
        {
          "output_type": "execute_result",
          "data": {
            "text/plain": [
              "29"
            ]
          },
          "metadata": {},
          "execution_count": 43
        }
      ]
    },
    {
      "cell_type": "code",
      "metadata": {
        "colab": {
          "base_uri": "https://localhost:8080/"
        },
        "id": "HV-oZllCocsa",
        "outputId": "cd11691d-dee4-4a10-8ab3-43e059f62357"
      },
      "source": [
        "np.eye(3)"
      ],
      "execution_count": 44,
      "outputs": [
        {
          "output_type": "execute_result",
          "data": {
            "text/plain": [
              "array([[1., 0., 0.],\n",
              "       [0., 1., 0.],\n",
              "       [0., 0., 1.]])"
            ]
          },
          "metadata": {},
          "execution_count": 44
        }
      ]
    },
    {
      "cell_type": "code",
      "metadata": {
        "colab": {
          "base_uri": "https://localhost:8080/"
        },
        "id": "tRAYIvzLoo0k",
        "outputId": "07567e16-4b51-4655-abc7-738a37034578"
      },
      "source": [
        "np.zeros((3,4))"
      ],
      "execution_count": 45,
      "outputs": [
        {
          "output_type": "execute_result",
          "data": {
            "text/plain": [
              "array([[0., 0., 0., 0.],\n",
              "       [0., 0., 0., 0.],\n",
              "       [0., 0., 0., 0.]])"
            ]
          },
          "metadata": {},
          "execution_count": 45
        }
      ]
    },
    {
      "cell_type": "code",
      "metadata": {
        "colab": {
          "base_uri": "https://localhost:8080/"
        },
        "id": "apAkaluQo1aU",
        "outputId": "ade0cb41-b0d8-4a9e-eb8a-54a164d0ad42"
      },
      "source": [
        "np.full((5,2),7)"
      ],
      "execution_count": 46,
      "outputs": [
        {
          "output_type": "execute_result",
          "data": {
            "text/plain": [
              "array([[7, 7],\n",
              "       [7, 7],\n",
              "       [7, 7],\n",
              "       [7, 7],\n",
              "       [7, 7]])"
            ]
          },
          "metadata": {},
          "execution_count": 46
        }
      ]
    },
    {
      "cell_type": "code",
      "metadata": {
        "colab": {
          "base_uri": "https://localhost:8080/"
        },
        "id": "LGVrB4T5o8fY",
        "outputId": "f30a68da-5048-4cc2-ed35-b38b6906a749"
      },
      "source": [
        "N=np.array([[1,2,3],\n",
        "           [4,5,6],\n",
        "           [7,8,9]])\n",
        "print(N )"
      ],
      "execution_count": 47,
      "outputs": [
        {
          "output_type": "stream",
          "text": [
            "[[1 2 3]\n",
            " [4 5 6]\n",
            " [7 8 9]]\n"
          ],
          "name": "stdout"
        }
      ]
    },
    {
      "cell_type": "code",
      "metadata": {
        "colab": {
          "base_uri": "https://localhost:8080/"
        },
        "id": "4RbmNwAQpfcw",
        "outputId": "c6626e53-ea8f-4d94-9b7c-83b345602ab1"
      },
      "source": [
        "w=np.array([2,3,-1],ndmin=2) \n",
        "\n",
        "print(w)\n",
        "print('')\n",
        "print(w.T)"
      ],
      "execution_count": 48,
      "outputs": [
        {
          "output_type": "stream",
          "text": [
            "[[ 2  3 -1]]\n",
            "\n",
            "[[ 2]\n",
            " [ 3]\n",
            " [-1]]\n"
          ],
          "name": "stdout"
        }
      ]
    },
    {
      "cell_type": "code",
      "metadata": {
        "colab": {
          "base_uri": "https://localhost:8080/"
        },
        "id": "EnnrbDtpqKzc",
        "outputId": "75bd9eb2-58fb-4a42-8db6-1e8cd82e536e"
      },
      "source": [
        "A=np.random.randn(3,3)\n",
        "print(A)"
      ],
      "execution_count": 49,
      "outputs": [
        {
          "output_type": "stream",
          "text": [
            "[[-1.19599324  1.00357383  0.74852814]\n",
            " [-0.60992945  0.97828607  0.71226349]\n",
            " [ 0.29444202 -0.49280908 -1.2257127 ]]\n"
          ],
          "name": "stdout"
        }
      ]
    },
    {
      "cell_type": "code",
      "metadata": {
        "colab": {
          "base_uri": "https://localhost:8080/"
        },
        "id": "Uhbb8BW7qmTk",
        "outputId": "8a1892fd-b7da-4c5b-c0aa-a530a2ccbe87"
      },
      "source": [
        "A= np.round(np.random.randn(3,3)) \n",
        "print(A)\n"
      ],
      "execution_count": 50,
      "outputs": [
        {
          "output_type": "stream",
          "text": [
            "[[-1. -1.  1.]\n",
            " [ 1.  1. -0.]\n",
            " [-1.  1. -0.]]\n"
          ],
          "name": "stdout"
        }
      ]
    },
    {
      "cell_type": "code",
      "metadata": {
        "colab": {
          "base_uri": "https://localhost:8080/"
        },
        "id": "XeS-Eh0wqqAn",
        "outputId": "1abbb4e0-d419-4c95-baff-465556cedf6b"
      },
      "source": [
        "M1 = np.random.randn(4,5)\n",
        "M2 = np.random.randn(4,5)\n",
        "\n",
        "print(np.matmul(M1,M2.T))\n",
        "print('')\n",
        "print(M1@M2.T)\n",
        "print('')\n",
        "print(np.matmul(M1,M2.T)-(M1@M2.T) )"
      ],
      "execution_count": 51,
      "outputs": [
        {
          "output_type": "stream",
          "text": [
            "[[ 0.90727626  1.01860723 -0.8329889  -2.58401753]\n",
            " [ 0.28195605 -0.08950299 -2.71590644 -2.00862134]\n",
            " [ 3.70848658  2.42608393  3.00962004 -1.63508322]\n",
            " [-2.82153506  0.26746901 -1.31595576  2.41281452]]\n",
            "\n",
            "[[ 0.90727626  1.01860723 -0.8329889  -2.58401753]\n",
            " [ 0.28195605 -0.08950299 -2.71590644 -2.00862134]\n",
            " [ 3.70848658  2.42608393  3.00962004 -1.63508322]\n",
            " [-2.82153506  0.26746901 -1.31595576  2.41281452]]\n",
            "\n",
            "[[0. 0. 0. 0.]\n",
            " [0. 0. 0. 0.]\n",
            " [0. 0. 0. 0.]\n",
            " [0. 0. 0. 0.]]\n"
          ],
          "name": "stdout"
        }
      ]
    },
    {
      "cell_type": "code",
      "metadata": {
        "colab": {
          "base_uri": "https://localhost:8080/"
        },
        "id": "6qXTW417rjsv",
        "outputId": "7ff8d5f5-8840-4b7e-a20d-ab50b3687505"
      },
      "source": [
        "S=np.random.randn(4,4)\n",
        "Sinv = np.linalg.inv(S)\n",
        " \n",
        "Sinvs=S@Sinv\n",
        "\n",
        "print(S)\n",
        "print('')\n",
        "print(Sinv)\n",
        "print('')\n",
        "print(Sinvs)\n"
      ],
      "execution_count": 52,
      "outputs": [
        {
          "output_type": "stream",
          "text": [
            "[[ 1.67108299 -0.60070198 -0.17839986 -1.70189694]\n",
            " [-0.16486448 -1.14115562 -1.52006515  0.58769234]\n",
            " [-0.02947019 -0.04363054  0.73757369 -0.81290929]\n",
            " [-1.68668768  0.61602756  0.22581848 -0.65377999]]\n",
            "\n",
            "[[ 0.23197946 -0.28284602 -0.42640157 -0.32794789]\n",
            " [ 0.33989822 -0.75669154 -1.61162018  0.43887464]\n",
            " [-0.44767862 -0.06077166  1.26300328 -0.45966422]\n",
            " [-0.43284337 -0.00427254  0.01776336 -0.42873159]]\n",
            "\n",
            "[[ 1.00000000e+00  9.26840629e-17  4.80053721e-17  2.37343259e-16]\n",
            " [-2.56737713e-17  1.00000000e+00 -3.33129774e-17 -5.88839359e-17]\n",
            " [ 4.88721695e-17  1.24061371e-18  1.00000000e+00  5.58516058e-17]\n",
            " [-5.36538235e-19 -4.33377601e-17 -1.18412802e-18  1.00000000e+00]]\n"
          ],
          "name": "stdout"
        }
      ]
    },
    {
      "cell_type": "code",
      "metadata": {
        "colab": {
          "base_uri": "https://localhost:8080/",
          "height": 183
        },
        "id": "x68Ma3TEs5uh",
        "outputId": "6c7b8310-7bda-466d-d39f-c17af57aa97e"
      },
      "source": [
        "fig,ax=plt.subplots(1,3,figsize=(6,5))\n",
        "\n",
        "ax[0].imshow(S)\n",
        "ax[0].set_title('S')\n",
        "\n",
        "ax[1].imshow(Sinv)\n",
        "ax[1].set_title('S$^{-1}$')\n",
        "\n",
        "ax[2].imshow(Sinvs)\n",
        "ax[2].set_title('S$^{-1}$S')"
      ],
      "execution_count": 55,
      "outputs": [
        {
          "output_type": "execute_result",
          "data": {
            "text/plain": [
              "Text(0.5, 1.0, 'S$^{-1}$S')"
            ]
          },
          "metadata": {},
          "execution_count": 55
        },
        {
          "output_type": "display_data",
          "data": {
            "image/png": "[encoded data removed]",
            "text/plain": [
              "<Figure size 432x360 with 3 Axes>"
            ]
          },
          "metadata": {
            "needs_background": "light"
          }
        }
      ]
    },
    {
      "cell_type": "code",
      "metadata": {
        "id": "gOPcM1w6ttet"
      },
      "source": [
        ""
      ],
      "execution_count": null,
      "outputs": []
    }
  ]
}